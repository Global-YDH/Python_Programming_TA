{
  "nbformat": 4,
  "nbformat_minor": 0,
  "metadata": {
    "colab": {
      "provenance": [],
      "collapsed_sections": [
        "4SQg1eQ2bEct",
        "j7kLUuBYdjyS",
        "iAXcsH46gL5k",
        "9IwD7aFXqCJk",
        "tmwrd4eg3P3e"
      ],
      "toc_visible": true,
      "authorship_tag": "ABX9TyPfoMnSYVQO5vR/SLqYQuWg",
      "include_colab_link": true
    },
    "kernelspec": {
      "name": "python3",
      "display_name": "Python 3"
    },
    "language_info": {
      "name": "python"
    }
  },
  "cells": [
    {
      "cell_type": "markdown",
      "metadata": {
        "id": "view-in-github",
        "colab_type": "text"
      },
      "source": [
        "<a href=\"https://colab.research.google.com/github/Global-YDH/Python_Programming_TA/blob/master/23_1_TA.ipynb\" target=\"_parent\"><img src=\"https://colab.research.google.com/assets/colab-badge.svg\" alt=\"Open In Colab\"/></a>"
      ]
    },
    {
      "cell_type": "markdown",
      "source": [
        "# 1. 출력"
      ],
      "metadata": {
        "id": "4SQg1eQ2bEct"
      }
    },
    {
      "cell_type": "code",
      "source": [
        "# 9501번 연습문제 1\n",
        "print(\"첫 번째 프로그램입니다.\")"
      ],
      "metadata": {
        "colab": {
          "base_uri": "https://localhost:8080/"
        },
        "id": "eX5sQBJMbEkM",
        "outputId": "24d88e54-86b9-4633-b4aa-c15ee8416295"
      },
      "execution_count": null,
      "outputs": [
        {
          "output_type": "stream",
          "name": "stdout",
          "text": [
            "첫 번째 프로그램입니다.\n"
          ]
        }
      ]
    },
    {
      "cell_type": "code",
      "source": [
        "# 700번 자가진단 1\n",
        "print(\"Python\")"
      ],
      "metadata": {
        "colab": {
          "base_uri": "https://localhost:8080/"
        },
        "id": "UAkbkAIIbOgE",
        "outputId": "7008a0b9-2005-42e7-f42d-9264331e6205"
      },
      "execution_count": null,
      "outputs": [
        {
          "output_type": "stream",
          "name": "stdout",
          "text": [
            "Python\n"
          ]
        }
      ]
    },
    {
      "cell_type": "code",
      "source": [
        "# 9502번 연습문제 2 ver.1\n",
        "print(\"두 번째 프로그램입니다.\\n2\\n번째 프로그램입니다.\")"
      ],
      "metadata": {
        "colab": {
          "base_uri": "https://localhost:8080/"
        },
        "id": "YV-RBYWgbYmz",
        "outputId": "fe5c858c-bd38-436d-b518-899fec968bb8"
      },
      "execution_count": null,
      "outputs": [
        {
          "output_type": "stream",
          "name": "stdout",
          "text": [
            "두 번째 프로그램입니다.\n",
            "2\n",
            "번째 프로그램입니다.\n"
          ]
        }
      ]
    },
    {
      "cell_type": "code",
      "source": [
        "# 9502번 연습문제 2 ver.2\n",
        "print(\"두 번째 프로그램입니다.\")\n",
        "print(\"2\")\n",
        "print(\"번째 프로그램입니다.\")"
      ],
      "metadata": {
        "colab": {
          "base_uri": "https://localhost:8080/"
        },
        "id": "bdNrfVIBbhGd",
        "outputId": "7a963bac-6ce1-4c4b-8cbc-3cc6756c2753"
      },
      "execution_count": null,
      "outputs": [
        {
          "output_type": "stream",
          "name": "stdout",
          "text": [
            "두 번째 프로그램입니다.\n",
            "2\n",
            "번째 프로그램입니다.\n"
          ]
        }
      ]
    },
    {
      "cell_type": "code",
      "source": [
        "# 701번 자가진단 2-1\n",
        "print(\"Score:\")\n",
        "print(\"100\")\n",
        "print(\"GREAT!\")"
      ],
      "metadata": {
        "colab": {
          "base_uri": "https://localhost:8080/"
        },
        "id": "Y4AIhj8Ybl1P",
        "outputId": "6bfedd8e-b47d-46f8-ce66-8e22aff75ccb"
      },
      "execution_count": null,
      "outputs": [
        {
          "output_type": "stream",
          "name": "stdout",
          "text": [
            "Score:\n",
            "100\n",
            "GREAT!\n"
          ]
        }
      ]
    },
    {
      "cell_type": "code",
      "source": [
        "# 702번 자가진단 2-2\n",
        "print(\"My height\")\n",
        "print(170)\n",
        "print(\"My weight\")\n",
        "print(68.6)"
      ],
      "metadata": {
        "colab": {
          "base_uri": "https://localhost:8080/"
        },
        "id": "jJ6py0RHbl5T",
        "outputId": "c525552a-219f-4428-c7e3-3070c8e00a18"
      },
      "execution_count": null,
      "outputs": [
        {
          "output_type": "stream",
          "name": "stdout",
          "text": [
            "My height\n",
            "170\n",
            "My weight\n",
            "68.6\n"
          ]
        }
      ]
    },
    {
      "cell_type": "code",
      "source": [
        "# 9503번 연습문제 3\n",
        "print(\"3 번째 프로그램입니다.\\n3 번째 프로그램입니다.\")"
      ],
      "metadata": {
        "colab": {
          "base_uri": "https://localhost:8080/"
        },
        "id": "n573AOXrb8SN",
        "outputId": "739a04e9-c165-4480-f9c3-393fc9f371a2"
      },
      "execution_count": null,
      "outputs": [
        {
          "output_type": "stream",
          "name": "stdout",
          "text": [
            "3 번째 프로그램입니다.\n",
            "3 번째 프로그램입니다.\n"
          ]
        }
      ]
    },
    {
      "cell_type": "code",
      "source": [
        "# 703번 자가진단 3\n",
        "print(\"1plus1 = Gwi yo mi\")"
      ],
      "metadata": {
        "colab": {
          "base_uri": "https://localhost:8080/"
        },
        "id": "GW-XdS3McGIJ",
        "outputId": "0727c284-5558-419b-e225-02175f0e22b2"
      },
      "execution_count": null,
      "outputs": [
        {
          "output_type": "stream",
          "name": "stdout",
          "text": [
            "1plus1 = Gwi yo mi\n"
          ]
        }
      ]
    },
    {
      "cell_type": "code",
      "source": [
        "# 9504번 연습문제 4\n",
        "print(\"   @@ \")\n",
        "print(\"  @  @ \")\n",
        "print(\" @    @ \")\n",
        "print(\"@      @ \")\n",
        "print(\" @    @ \")\n",
        "print(\"  @  @ \")\n",
        "print(\"   @@\")"
      ],
      "metadata": {
        "colab": {
          "base_uri": "https://localhost:8080/"
        },
        "id": "XE7eBdRmcYLd",
        "outputId": "48ac031f-37cb-4df0-bd9e-8f355fe60cec"
      },
      "execution_count": null,
      "outputs": [
        {
          "output_type": "stream",
          "name": "stdout",
          "text": [
            "   @@ \n",
            "  @  @ \n",
            " @    @ \n",
            "@      @ \n",
            " @    @ \n",
            "  @  @ \n",
            "   @@\n"
          ]
        }
      ]
    },
    {
      "cell_type": "code",
      "source": [
        "# 704번 자가진단 4\n",
        "print(\"(@) (@)\")\n",
        "print(\"(=^.^=)\")\n",
        "print(\"(-m-m-)\")"
      ],
      "metadata": {
        "colab": {
          "base_uri": "https://localhost:8080/"
        },
        "id": "fcfMuT_ScftN",
        "outputId": "502bcadb-e522-41b9-fb4d-2761236a9b08"
      },
      "execution_count": null,
      "outputs": [
        {
          "output_type": "stream",
          "name": "stdout",
          "text": [
            "(@) (@)\n",
            "(=^.^=)\n",
            "(-m-m-)\n"
          ]
        }
      ]
    },
    {
      "cell_type": "code",
      "source": [
        "# 9505번 연습문제 5\n",
        "print(\"수식을 계산해봅시다.\")\n",
        "print(\"5 + 2\")\n",
        "print(7)"
      ],
      "metadata": {
        "colab": {
          "base_uri": "https://localhost:8080/"
        },
        "id": "qzX9SrvkcqW1",
        "outputId": "8a6b5c5b-90f8-40da-8158-42d60030cc74"
      },
      "execution_count": null,
      "outputs": [
        {
          "output_type": "stream",
          "name": "stdout",
          "text": [
            "수식을 계산해봅시다.\n",
            "5 + 2\n",
            "7\n"
          ]
        }
      ]
    },
    {
      "cell_type": "code",
      "source": [
        "# 705번 자가진단 5-1\n",
        "print(\"5 Dan\")\n",
        "print(\"5 * 2 = 10\")"
      ],
      "metadata": {
        "colab": {
          "base_uri": "https://localhost:8080/"
        },
        "id": "DAyu-IPacwym",
        "outputId": "787b957f-75e3-472e-a6ef-bc1edd295993"
      },
      "execution_count": null,
      "outputs": [
        {
          "output_type": "stream",
          "name": "stdout",
          "text": [
            "5 Dan\n",
            "5 * 2 = 10\n"
          ]
        }
      ]
    },
    {
      "cell_type": "code",
      "source": [
        "# 706번 자가진단 5-2\n",
        "print(\"6 + 2 = 8\")\n",
        "print(\"6 - 2 = 4\")\n",
        "print(\"6 * 2 = 12\")\n",
        "print(\"6 / 2 = 3.0\")"
      ],
      "metadata": {
        "colab": {
          "base_uri": "https://localhost:8080/"
        },
        "id": "_8a5-Mqvc1HX",
        "outputId": "163e8b32-4e88-4ea5-b565-91365341253b"
      },
      "execution_count": null,
      "outputs": [
        {
          "output_type": "stream",
          "name": "stdout",
          "text": [
            "6 + 2 = 8\n",
            "6 - 2 = 4\n",
            "6 * 2 = 12\n",
            "6 / 2 = 3.0\n"
          ]
        }
      ]
    },
    {
      "cell_type": "code",
      "source": [
        "# 707번 형성평가 1\n",
        "print(\"My name is Hong\")"
      ],
      "metadata": {
        "colab": {
          "base_uri": "https://localhost:8080/"
        },
        "id": "Y6Ouf4KDc7B5",
        "outputId": "3b7ccef8-9034-42b0-b923-c36c03ce2d37"
      },
      "execution_count": null,
      "outputs": [
        {
          "output_type": "stream",
          "name": "stdout",
          "text": [
            "My name is Hong\n"
          ]
        }
      ]
    },
    {
      "cell_type": "code",
      "source": [
        "# 708번 형성평가 2\n",
        "print(\"My hometown\")\n",
        "print(\"Flowering mountain\")"
      ],
      "metadata": {
        "colab": {
          "base_uri": "https://localhost:8080/"
        },
        "id": "FttuHwnVdAa8",
        "outputId": "910a9b22-eb93-492e-e3bc-9c77e6d580c5"
      },
      "execution_count": null,
      "outputs": [
        {
          "output_type": "stream",
          "name": "stdout",
          "text": [
            "My hometown\n",
            "Flowering mountain\n"
          ]
        }
      ]
    },
    {
      "cell_type": "code",
      "source": [
        "# 709번 형성평가 3\n",
        "print(\"TTTTTTTTTT\")\n",
        "print(\"TTTTTTTTTT\")\n",
        "print(\"    TT\")\n",
        "print(\"    TT\")\n",
        "print(\"    TT\")"
      ],
      "metadata": {
        "colab": {
          "base_uri": "https://localhost:8080/"
        },
        "id": "Bu1XYStodFb4",
        "outputId": "6e9a6159-03bc-41ac-cdcb-085af045ace7"
      },
      "execution_count": null,
      "outputs": [
        {
          "output_type": "stream",
          "name": "stdout",
          "text": [
            "TTTTTTTTTT\n",
            "TTTTTTTTTT\n",
            "    TT\n",
            "    TT\n",
            "    TT\n"
          ]
        }
      ]
    },
    {
      "cell_type": "code",
      "source": [
        "# 710번 형성평가 4\n",
        "print(\"kor 90\")\n",
        "print(\"mat 80\")\n",
        "print(\"eng 100\")\n",
        "print(\"sum 270\")"
      ],
      "metadata": {
        "colab": {
          "base_uri": "https://localhost:8080/"
        },
        "id": "EC4EHee8dMPm",
        "outputId": "3c90b867-9ea9-46fc-ce4f-d0429b83ac08"
      },
      "execution_count": null,
      "outputs": [
        {
          "output_type": "stream",
          "name": "stdout",
          "text": [
            "kor 90\n",
            "mat 80\n",
            "eng 100\n",
            "sum 270\n"
          ]
        }
      ]
    },
    {
      "cell_type": "markdown",
      "source": [
        "# 2. 변수와 입력"
      ],
      "metadata": {
        "id": "j7kLUuBYdjyS"
      }
    },
    {
      "cell_type": "code",
      "source": [
        "# 9506번 연습문제 1\n",
        "a = 10\n",
        "b = \"Apple\"\n",
        "print(a)\n",
        "print(b)"
      ],
      "metadata": {
        "id": "NyDJXybKdmKC"
      },
      "execution_count": null,
      "outputs": []
    },
    {
      "cell_type": "code",
      "source": [
        "# 720번 자가진단 1\n",
        "a = -100\n",
        "print(a)"
      ],
      "metadata": {
        "id": "2APMHTUTd-ip"
      },
      "execution_count": null,
      "outputs": []
    },
    {
      "cell_type": "code",
      "source": [
        "# 9507번 연습문제 2\n",
        "a = 10\n",
        "b = 20\n",
        "temp = a\n",
        "a = b\n",
        "b = temp\n",
        "print(a,b)"
      ],
      "metadata": {
        "id": "IP7CtE7geE8N"
      },
      "execution_count": null,
      "outputs": []
    },
    {
      "cell_type": "code",
      "source": [
        "# 721번 자가진단 2\n",
        "a, b = -1, 100\n",
        "\n",
        "print(a)\n",
        "print(b)"
      ],
      "metadata": {
        "id": "mh3ibISzeJrj"
      },
      "execution_count": null,
      "outputs": []
    },
    {
      "cell_type": "code",
      "source": [
        "# 9508번 연습문제 3\n",
        "a, b = 10, 20\n",
        "print(a, \"+\", b, \"=\", a+b)\n",
        "a, b = 30, 40\n",
        "print(a, \"+\", b, \"=\", a+b)"
      ],
      "metadata": {
        "id": "csi5LKIweRi3"
      },
      "execution_count": null,
      "outputs": []
    },
    {
      "cell_type": "code",
      "source": [
        "# 722번 자가진단 3\n",
        "a, b = 55, 10\n",
        "print(a, \"-\", b, \"=\", a-b)\n",
        "a, b = 2008, 1999\n",
        "print(a, \"-\", b, \"=\", a-b)"
      ],
      "metadata": {
        "id": "TXR6KzbTeZuu"
      },
      "execution_count": null,
      "outputs": []
    },
    {
      "cell_type": "code",
      "source": [
        "# 9509번 연습문제 4\n",
        "r, pi = 5, 3.14\n",
        "circumference = 2*r*pi\n",
        "area = r*r*pi\n",
        "print(\"원주 = 5 * 2 * 3.14 =\", circumference)\n",
        "print(\"넓이 = 5 * 5 * 3.14 =\", area)"
      ],
      "metadata": {
        "id": "GsWpSOjweelk"
      },
      "execution_count": null,
      "outputs": []
    },
    {
      "cell_type": "code",
      "source": [
        "# 723번 자가진단 4\n",
        "weight = 49\n",
        "gravity = 0.2683\n",
        "print(weight, \"*\", gravity, \"=\", weight*gravity)"
      ],
      "metadata": {
        "id": "8GplQgpxekIY"
      },
      "execution_count": null,
      "outputs": []
    },
    {
      "cell_type": "code",
      "source": [
        "# 9510 연습문제 5\n",
        "name = input(\"당신의 이름은 무엇입니까? \")\n",
        "\n",
        "print(\"당신의 이름은 %s 군요.\" % name)"
      ],
      "metadata": {
        "id": "jbdIEf1uepRt"
      },
      "execution_count": null,
      "outputs": []
    },
    {
      "cell_type": "code",
      "source": [
        "# 724 자가진단 5\n",
        "school = input(\"School? \")\n",
        "\n",
        "print(\"Your school is %s\" % school)"
      ],
      "metadata": {
        "id": "8oaqQwhievRR"
      },
      "execution_count": null,
      "outputs": []
    },
    {
      "cell_type": "code",
      "source": [
        "# 9511 연습문제 6\n",
        "num_1 = int(input(\"수를 입력하시오. \"))\n",
        "num_2 = int(input(\"수를 입력하시오. \"))\n",
        "print(\"%d + %d = %d\" %(num_1,num_2,num_1+num_2))\n",
        "print(\"%d * %d = %d\" %(num_1,num_2,num_1*num_2))"
      ],
      "metadata": {
        "id": "XKucGST_ez0E"
      },
      "execution_count": null,
      "outputs": []
    },
    {
      "cell_type": "code",
      "source": [
        "# 725번 자가진단 6\n",
        "num1 = int(input(\"Number 1? \"))\n",
        "num2 = int(input(\"Number 2? \"))\n",
        "\n",
        "print(\"%d * %d = %d\" %(num1,num2,num1*num2))\n",
        "print(\"{} / {} = {}\".format(num1,num2,num1/num2))"
      ],
      "metadata": {
        "id": "HAPfLStKfAj_"
      },
      "execution_count": null,
      "outputs": []
    },
    {
      "cell_type": "code",
      "source": [
        "# 9512번 연습문제 7\n",
        "height = int(input(\"키를 입력하시오. \"))\n",
        "weight = float(input(\"몸무게를 입력하시오. \"))\n",
        "name = input(\"이름을 입력하시오. \")\n",
        "\n",
        "print(\"키 =\", height)\n",
        "print(\"몸무게 =\", weight)\n",
        "print(\"이름 =\", name)"
      ],
      "metadata": {
        "id": "RDGJbSu-fK7S"
      },
      "execution_count": null,
      "outputs": []
    },
    {
      "cell_type": "code",
      "source": [
        "# 726번 자가진단 7\n",
        "width = float(input(\"Garo : \"))\n",
        "height = float(input(\"Sero : \"))\n",
        "\n",
        "print(width*height)"
      ],
      "metadata": {
        "id": "vU1PrcrzfPXI"
      },
      "execution_count": null,
      "outputs": []
    },
    {
      "cell_type": "code",
      "source": [
        "# 9513번 연습문제 8\n",
        "a = float(input())\n",
        "b = float(input())\n",
        "\n",
        "print(\"x =\", a)\n",
        "print(\"y =\", b)"
      ],
      "metadata": {
        "id": "dHbE6UOafXnR"
      },
      "execution_count": null,
      "outputs": []
    },
    {
      "cell_type": "code",
      "source": [
        "# 727 자가진단 8\n",
        "sentence1 = input()\n",
        "sentence2 = input()\n",
        "sentence3 = input()\n",
        "\n",
        "print(sentence1)\n",
        "print(sentence2)\n",
        "print(sentence3)"
      ],
      "metadata": {
        "id": "2h0ymkH6fcQZ"
      },
      "execution_count": null,
      "outputs": []
    },
    {
      "cell_type": "code",
      "source": [
        "# 728번 형성평가 1\n",
        "a, b, c = 10,20,30\n",
        "print(\"{} + {} = {}\".format(a,b,c))"
      ],
      "metadata": {
        "colab": {
          "base_uri": "https://localhost:8080/"
        },
        "id": "JCHT4X6efhUk",
        "outputId": "abd95251-92b9-402d-8c23-17a060a1a023"
      },
      "execution_count": null,
      "outputs": [
        {
          "output_type": "stream",
          "name": "stdout",
          "text": [
            "10 + 20 = 30\n"
          ]
        }
      ]
    },
    {
      "cell_type": "code",
      "source": [
        "# 729번 형성평가 2\n",
        "f1, f2 = 80.5, 22.34\n",
        "\n",
        "print(\"%.1f %.2f %.2f\" %(f1,f2,f1+f2))"
      ],
      "metadata": {
        "id": "vx3z1zpdf2cQ"
      },
      "execution_count": null,
      "outputs": []
    },
    {
      "cell_type": "code",
      "source": [
        "# 730번 형성평가 3\n",
        "f, num = 10.5, 50\n",
        "\n",
        "print(\"%.1f * %d = %.1f\" %(f,num,f*num))"
      ],
      "metadata": {
        "id": "frvyykshf6Zx"
      },
      "execution_count": null,
      "outputs": []
    },
    {
      "cell_type": "code",
      "source": [
        "# 731번 형성평가 4\n",
        "a = int(input())\n",
        "b = int(input())\n",
        "c = int(input())\n",
        "\n",
        "print(\"sum =\", a+b+c)\n",
        "print(\"avg =\", (a+b+c)//3)"
      ],
      "metadata": {
        "id": "8uxJ38KGgBfE"
      },
      "execution_count": null,
      "outputs": []
    },
    {
      "cell_type": "code",
      "source": [
        "# 732번 형성평가 5\n",
        "distance = float(input(\"yard? \"))\n",
        "\n",
        "change_cm = 91.44 * distance\n",
        "\n",
        "print(\"{0} yard = {1} cm\".format(distance,change_cm))"
      ],
      "metadata": {
        "id": "ufxq0OLtgF_5"
      },
      "execution_count": null,
      "outputs": []
    },
    {
      "cell_type": "markdown",
      "source": [
        "# 3. 연산자"
      ],
      "metadata": {
        "id": "iAXcsH46gL5k"
      }
    },
    {
      "cell_type": "code",
      "source": [
        "# 9514번 연습문제 1\n",
        "num1 = int(input(\"수를 입력하시오. \"))\n",
        "num2 = int(input(\"수를 입력하시오. \"))\n",
        "\n",
        "print(\"%d + %d = %d\" %(num1,num2,num1+num2))\n",
        "print(\"%d - %d = %d\" % (num1,num2,num1-num2))\n",
        "print(\"%d * %d = %d\" %(num1,num2,num1*num2))\n",
        "print(\"%d // %d = %d\" %(num1,num2,num1//num2))\n",
        "print(\"{} % {} = {}\".format(num1,num2,num1%num2))\n",
        "print(\"%d ** %d = %d\" %(num1,num2,num1**num2))"
      ],
      "metadata": {
        "id": "8uLXQIYBgNeZ"
      },
      "execution_count": null,
      "outputs": []
    },
    {
      "cell_type": "code",
      "source": [
        "# 740번 자가진단 1\n",
        "a = int(input())\n",
        "b = int(input())\n",
        "c = int(input())\n",
        "result = a+b+c\n",
        "average = result // 3\n",
        "print(\"sum :\",result)\n",
        "print(\"avg :\", average)"
      ],
      "metadata": {
        "id": "sx6-0esVgauQ"
      },
      "execution_count": null,
      "outputs": []
    },
    {
      "cell_type": "code",
      "source": [
        "# 9515번 연습문제 2-1\n",
        "a = int(input(\"정수를 입력하시오. \")) + 3\n",
        "b = int(input(\"정수를 입력하시오. \")) - 3\n",
        "c = int(input(\"정수를 입력하시오. \")) * 3\n",
        "d = int(input(\"정수를 입력하시오. \")) // 3\n",
        "e = int(input(\"정수를 입력하시오. \")) % 3\n",
        "f = int(input(\"정수를 입력하시오. \")) **3\n",
        "\n",
        "print(a,b,c,d,e,f)"
      ],
      "metadata": {
        "id": "Gmuj5XlggeLK"
      },
      "execution_count": null,
      "outputs": []
    },
    {
      "cell_type": "code",
      "source": [
        "# 9516번 연습문제 2-2\n",
        "a = int(input(\"정수를 입력하시오. \")) + 3\n",
        "b = int(input(\"정수를 입력하시오. \")) - 3\n",
        "c = int(input(\"정수를 입력하시오. \")) * 3\n",
        "d = int(input(\"정수를 입력하시오. \")) // 3\n",
        "e = int(input(\"정수를 입력하시오. \")) % 3\n",
        "f = int(input(\"정수를 입력하시오. \")) **3\n",
        "\n",
        "print(a,b,c,d,e,f)"
      ],
      "metadata": {
        "id": "p9e06C0Igi09"
      },
      "execution_count": null,
      "outputs": []
    },
    {
      "cell_type": "code",
      "source": [
        "# 741번 자가진단 2-1\n",
        "a = int(input())\n",
        "\n",
        "print(a)\n",
        "print(a+2)"
      ],
      "metadata": {
        "id": "Cv57RV2OgoWK"
      },
      "execution_count": null,
      "outputs": []
    },
    {
      "cell_type": "code",
      "source": [
        "# 742번 자가진단 2-2\n",
        "a = int(input()) + 100\n",
        "b = int(input()) % 10\n",
        "\n",
        "print(a,b)"
      ],
      "metadata": {
        "id": "7hiLOuodgtf_"
      },
      "execution_count": null,
      "outputs": []
    },
    {
      "cell_type": "code",
      "source": [
        "# 743번 자가진단 2-3\n",
        "a = int(input())\n",
        "b = int(input()) -1\n",
        "\n",
        "multi = a * b\n",
        "a += 1\n",
        "\n",
        "print(a,b,multi)"
      ],
      "metadata": {
        "id": "4K-MQjh4gydl"
      },
      "execution_count": null,
      "outputs": []
    },
    {
      "cell_type": "code",
      "source": [
        "# 9517번 연습문제 3\n",
        "a = int(input())\n",
        "b = int(input())\n",
        "c = int(input())\n",
        "\n",
        "print(a==b, b==c,c==b,c==a)"
      ],
      "metadata": {
        "id": "GqXsBqKQg2uv"
      },
      "execution_count": null,
      "outputs": []
    },
    {
      "cell_type": "code",
      "source": [
        "# 744번 자가진단 3\n",
        "a = int(input())\n",
        "b = int(input())\n",
        "\n",
        "print(a==b)\n",
        "print(a!=b)"
      ],
      "metadata": {
        "id": "WP1uRsSKg7hu"
      },
      "execution_count": null,
      "outputs": []
    },
    {
      "cell_type": "code",
      "source": [
        "# 9518번 연습문제 4\n",
        "a = int(input())\n",
        "b = int(input())\n",
        "c = int(input())\n",
        "\n",
        "print(a>b, b>=c, a <= b, b < c)"
      ],
      "metadata": {
        "id": "HkT1R6nDhAVb"
      },
      "execution_count": null,
      "outputs": []
    },
    {
      "cell_type": "code",
      "source": [
        "# 745번 자가진단 4\n",
        "a = int(input())\n",
        "b = int(input())\n",
        "\n",
        "print(\"%d > %d --- %s\" %(a,b,a>b))\n",
        "print(\"%d < %d --- %s\" %(a,b,a<b))\n",
        "print(\"%d >= %d --- %s\" %(a,b,a>=b))\n",
        "print(\"%d <= %d --- %s\" %(a,b,a<=b))"
      ],
      "metadata": {
        "id": "f5ZvN3FthFjy"
      },
      "execution_count": null,
      "outputs": []
    },
    {
      "cell_type": "code",
      "source": [
        "# 9519번 연습문제 5\n",
        "a = False\n",
        "b = True\n",
        "c = True\n",
        "\n",
        "print(a and b == True, a or b == True, b and c == True, a == False)"
      ],
      "metadata": {
        "id": "ko2H3JLIhKHY"
      },
      "execution_count": null,
      "outputs": []
    },
    {
      "cell_type": "code",
      "source": [
        "# 746번 자가진단 5\n",
        "a = True\n",
        "b = True\n",
        "c = False\n",
        "\n",
        "print(not a)\n",
        "print(a and b)\n",
        "print(a or b)\n",
        "print(a and (b or c))\n",
        "print(a or (b and c))\n",
        "print(not a or (b and not c))"
      ],
      "metadata": {
        "id": "1K16IfjKhWIQ"
      },
      "execution_count": null,
      "outputs": []
    },
    {
      "cell_type": "code",
      "source": [
        "# 9520번 연습문제 6\n",
        "a = 0\n",
        "b = 1\n",
        "c = 2\n",
        "\n",
        "print(a < b, b < c, a > c, a < c)"
      ],
      "metadata": {
        "id": "LfJkvt6BhZwV"
      },
      "execution_count": null,
      "outputs": []
    },
    {
      "cell_type": "code",
      "source": [
        "# 747번 자가진단 6\n",
        "a = int(input())\n",
        "b = int(input())\n",
        "c = int(input())\n",
        "\n",
        "print(a > b and a > c, a == b and a == c)"
      ],
      "metadata": {
        "id": "ooIcpbsFhd7J"
      },
      "execution_count": null,
      "outputs": []
    },
    {
      "cell_type": "code",
      "source": [
        "# 9521 연습문제 7\n",
        "a = input()\n",
        "b = input()\n",
        "c = input()\n",
        "\n",
        "print(a+b)\n",
        "print(c*10)"
      ],
      "metadata": {
        "id": "583U97sKhiiC"
      },
      "execution_count": null,
      "outputs": []
    },
    {
      "cell_type": "code",
      "source": [
        "# 748 자가진단 7\n",
        "a = input()\n",
        "b = input()\n",
        "\n",
        "print(a*2+b*3) "
      ],
      "metadata": {
        "id": "dlJ3FiCGhov3"
      },
      "execution_count": null,
      "outputs": []
    },
    {
      "cell_type": "code",
      "source": [
        "# 749 형성평가 1\n",
        "k = int(input())\n",
        "e = int(input())\n",
        "m = int(input())\n",
        "c = int(input())\n",
        "total = k+e+m+c\n",
        "print(\"sum\", total)\n",
        "print(\"avg\", total//4)"
      ],
      "metadata": {
        "id": "mrJNltO5htp1"
      },
      "execution_count": null,
      "outputs": []
    },
    {
      "cell_type": "code",
      "source": [
        "# 750번 형성평가\n",
        "\n",
        "num1 = int(input())\n",
        "num2 = int(input())\n",
        "\n",
        "print(\"%d / %d = %d ... %d\" % (num1,num2,num1//num2, num1%num2))"
      ],
      "metadata": {
        "colab": {
          "base_uri": "https://localhost:8080/"
        },
        "id": "BZn5vjy0hxov",
        "outputId": "5fb9cbf7-c7d7-4aae-c997-d9f12d3cf52e"
      },
      "execution_count": null,
      "outputs": [
        {
          "output_type": "stream",
          "name": "stdout",
          "text": [
            "35\n",
            "10\n",
            "35 / 10 = 3...5\n"
          ]
        }
      ]
    },
    {
      "cell_type": "code",
      "source": [
        "# 751번 형성평가 3\n",
        "width = int(input()) + 5\n",
        "height = int(input()) * 2\n",
        "area = width * height\n",
        "\n",
        "print(\"width =\", width)\n",
        "print(\"length =\", height)\n",
        "print(\"area =\", area)"
      ],
      "metadata": {
        "colab": {
          "base_uri": "https://localhost:8080/"
        },
        "id": "nFIyNmJJmWFM",
        "outputId": "38168f3a-e687-412c-9e8a-d2b7d42358eb"
      },
      "execution_count": null,
      "outputs": [
        {
          "output_type": "stream",
          "name": "stdout",
          "text": [
            "20\n",
            "15\n",
            "width = 25\n",
            "length = 30\n",
            "area = 750\n"
          ]
        }
      ]
    },
    {
      "cell_type": "code",
      "source": [
        "# 752번 형성평가 4\n",
        "\n",
        "num1 = int(input()) + 1\n",
        "num2 = int(input())\n",
        "\n",
        "print(num1,num2)\n",
        "print(num1, num2-1)"
      ],
      "metadata": {
        "colab": {
          "base_uri": "https://localhost:8080/"
        },
        "id": "rqj8myeym__e",
        "outputId": "deea5f8b-5511-4b3d-d46e-02aef3e31627"
      },
      "execution_count": null,
      "outputs": [
        {
          "output_type": "stream",
          "name": "stdout",
          "text": [
            "10\n",
            "15\n",
            "11 15\n",
            "11 14\n"
          ]
        }
      ]
    },
    {
      "cell_type": "code",
      "source": [
        "# 753번 형성평가 5 ver.1\n",
        "\n",
        "brother = int(input(\"Brother? \"))\n",
        "sister = int(input(\"Sister? \"))\n",
        "\n",
        "if brother != sister:\n",
        "  print(\"True\")\n",
        "else:\n",
        "  print(\"False\")\n"
      ],
      "metadata": {
        "colab": {
          "base_uri": "https://localhost:8080/"
        },
        "id": "uxWRy3IrnhvH",
        "outputId": "18002b0c-76c8-44f2-888c-84f649040a36"
      },
      "execution_count": null,
      "outputs": [
        {
          "output_type": "stream",
          "name": "stdout",
          "text": [
            "Brother? 5\n",
            "Sister? 7\n",
            "True\n"
          ]
        }
      ]
    },
    {
      "cell_type": "code",
      "source": [
        "# 753번 형성평가 5 ver.2\n",
        "\n",
        "brother = int(input(\"Brother? \"))\n",
        "sister = int(input(\"Sister? \"))\n",
        "answer = (brother != sister)\n",
        "print(answer)"
      ],
      "metadata": {
        "id": "WmAecMtfoNik"
      },
      "execution_count": null,
      "outputs": []
    },
    {
      "cell_type": "code",
      "source": [
        "# 754번 형성평가 6 ver.1\n",
        "\n",
        "M_height = int(input())\n",
        "M_weight = int(input())\n",
        "K_height = int(input())\n",
        "K_weight = int(input())\n",
        "\n",
        "answer = M_height > K_height and M_weight > K_weight\n",
        "print(answer)"
      ],
      "metadata": {
        "colab": {
          "base_uri": "https://localhost:8080/"
        },
        "id": "C-RiDfByoRB9",
        "outputId": "23d191b5-94fe-4b4b-adb2-2ec5b03ae98f"
      },
      "execution_count": null,
      "outputs": [
        {
          "output_type": "stream",
          "name": "stdout",
          "text": [
            "150\n",
            "35\n",
            "145\n",
            "35\n",
            "False\n"
          ]
        }
      ]
    },
    {
      "cell_type": "code",
      "source": [
        "# 754번 형성평가 6 ver.1\n",
        "\n",
        "M_height = int(input())\n",
        "M_weight = int(input())\n",
        "K_height = int(input())\n",
        "K_weight = int(input())\n",
        "\n",
        "if M_height > K_height and M_weight > K_weight:\n",
        "  print(\"True\")\n",
        "else:\n",
        "  print(\"False\")"
      ],
      "metadata": {
        "colab": {
          "base_uri": "https://localhost:8080/"
        },
        "id": "iA6D5CWVo107",
        "outputId": "5024d060-1c95-426d-cb43-ff45e650db57"
      },
      "execution_count": null,
      "outputs": [
        {
          "output_type": "stream",
          "name": "stdout",
          "text": [
            "150\n",
            "35\n",
            "145\n",
            "35\n",
            "False\n"
          ]
        }
      ]
    },
    {
      "cell_type": "code",
      "source": [
        "# 755번 형성평가 7\n",
        "name1 = input()\n",
        "name2 = input()\n",
        "\n",
        "print(name1, \"and\", name2)\n",
        "print(name1+\"&\"+name2)"
      ],
      "metadata": {
        "colab": {
          "base_uri": "https://localhost:8080/"
        },
        "id": "vbQhv-VZpKzu",
        "outputId": "502221d3-b44e-445b-9b31-23e243655ed0"
      },
      "execution_count": null,
      "outputs": [
        {
          "output_type": "stream",
          "name": "stdout",
          "text": [
            "Spongebob\n",
            "Patrick\n",
            "Spongebob and Patrick\n",
            "Spongebob&Patrick\n"
          ]
        }
      ]
    },
    {
      "cell_type": "code",
      "source": [
        "# 756번 형성평가 8\n",
        "\n",
        "st1 = input()\n",
        "st2 = input()\n",
        "loop = int(input())\n",
        "print(st2*loop+st1)"
      ],
      "metadata": {
        "colab": {
          "base_uri": "https://localhost:8080/"
        },
        "id": "gEOyFXfZpp4h",
        "outputId": "d68c27a0-0a51-4ae5-c189-749703161eb4"
      },
      "execution_count": null,
      "outputs": [
        {
          "output_type": "stream",
          "name": "stdout",
          "text": [
            "Wolf\n",
            "Sheep\n",
            "3\n",
            "SheepSheepSheepWolf\n"
          ]
        }
      ]
    },
    {
      "cell_type": "markdown",
      "source": [
        "# 4. 문자열1"
      ],
      "metadata": {
        "id": "9IwD7aFXqCJk"
      }
    },
    {
      "cell_type": "code",
      "source": [
        "# 9522번 연습문제\n",
        "a,b = map(str, input().split())\n",
        "\n",
        "print(a)\n",
        "print(b)"
      ],
      "metadata": {
        "colab": {
          "base_uri": "https://localhost:8080/"
        },
        "id": "KzwMgdo8qG6o",
        "outputId": "44c5f725-bc79-4264-e9ba-26bfcc146794"
      },
      "execution_count": null,
      "outputs": [
        {
          "output_type": "stream",
          "name": "stdout",
          "text": [
            "Fun Python\n",
            "Fun\n",
            "Python\n"
          ]
        }
      ]
    },
    {
      "cell_type": "code",
      "source": [
        "# 761번 자가진단 1\n",
        "\n",
        "st1, st2 = input().split()\n",
        "\n",
        "print(st2, st1+st2)"
      ],
      "metadata": {
        "colab": {
          "base_uri": "https://localhost:8080/"
        },
        "id": "8wAYI_wsqXZF",
        "outputId": "7b3392bd-48ed-499b-c463-357f3fab13d4"
      },
      "execution_count": null,
      "outputs": [
        {
          "output_type": "stream",
          "name": "stdout",
          "text": [
            "Lion Tiger\n",
            "Tiger LionTiger\n"
          ]
        }
      ]
    },
    {
      "cell_type": "code",
      "source": [
        "# 9523번 연습문제 2 ver.1\n",
        "\n",
        "a,b,c = input().split()\n",
        "\n",
        "print(\"잘못된 결과 :\", a+b+c)\n",
        "print(\"올바른 결과 :\", int(a)+int(b)+int(c))"
      ],
      "metadata": {
        "colab": {
          "base_uri": "https://localhost:8080/"
        },
        "id": "VCk0e2OKrBDs",
        "outputId": "80c25d99-0fad-43be-cd87-af4781bd6a17"
      },
      "execution_count": 2,
      "outputs": [
        {
          "output_type": "stream",
          "name": "stdout",
          "text": [
            "3 5 7\n",
            "잘못된 결과 : 357\n",
            "올바른 결과 : 15\n"
          ]
        }
      ]
    },
    {
      "cell_type": "code",
      "source": [
        "# 9523번 연습문제 2 ver.2\n",
        "\n",
        "a,b,c = map(int, input().split())\n",
        "\n",
        "print(\"잘못된 결과 : %s\" % (str(a)+str(b)+str(c)))\n",
        "print(\"올바른 결과 : %d\" % (a+b+c))"
      ],
      "metadata": {
        "id": "Nl-6BLktr-nI"
      },
      "execution_count": null,
      "outputs": []
    },
    {
      "cell_type": "code",
      "source": [
        "# 762번 자가진단 2\n",
        "\n",
        "student_1, age_1 = input().split()\n",
        "student_2, age_2 = input().split()\n",
        "\n",
        "print(\"{} age + {} age = {}\".format(student_1,student_2, int(age_1)+int(age_2)))"
      ],
      "metadata": {
        "colab": {
          "base_uri": "https://localhost:8080/"
        },
        "id": "F-axQBmwsQvY",
        "outputId": "7584e8e2-97f7-4d91-aca6-2df746fc6f17"
      },
      "execution_count": null,
      "outputs": [
        {
          "output_type": "stream",
          "name": "stdout",
          "text": [
            "Chulsoo 15\n",
            "Minho 18\n",
            "Chulsoo age + Minho age = 33\n"
          ]
        }
      ]
    },
    {
      "cell_type": "code",
      "source": [
        "# 9524번 연습문제 3\n",
        "\n",
        "st = input()\n",
        "print(st.strip())"
      ],
      "metadata": {
        "id": "28wy0ywOs9o8"
      },
      "execution_count": null,
      "outputs": []
    },
    {
      "cell_type": "code",
      "source": [
        "# 763번 자가진단 3\n",
        "\n",
        "st1 = input().rstrip()\n",
        "st2 = input().rstrip()\n",
        "print(st1, st2)"
      ],
      "metadata": {
        "id": "xHPVp07KtDkr"
      },
      "execution_count": null,
      "outputs": []
    },
    {
      "cell_type": "code",
      "source": [
        "# 9525번 연습문제 4\n",
        "\n",
        "st1, st2 = input().split()\n",
        "\n",
        "print(st1, \"like\", st2)\n",
        "print(st1, \"like\", st2)\n",
        "print(st1, \"like\", st2)\n",
        "print(st1, \"like\", st2)"
      ],
      "metadata": {
        "id": "B8_fRB15tKSY"
      },
      "execution_count": null,
      "outputs": []
    },
    {
      "cell_type": "code",
      "source": [
        "# 764번 자가진단 4\n",
        "\n",
        "animal, animal_sound = input().split()\n",
        "print(animal, \"sounds\", animal_sound+\".\")\n",
        "animal, animal_sound = input().split()\n",
        "print(animal, \"sounds\", animal_sound+\".\")\n",
        "animal, animal_sound = input().split()\n",
        "print(animal, \"sounds\", animal_sound+\".\")"
      ],
      "metadata": {
        "id": "aLKqr_PhtPic"
      },
      "execution_count": null,
      "outputs": []
    },
    {
      "cell_type": "code",
      "source": [
        "# 9526번 연습문제 5\n",
        "\n",
        "name, height, weight = input().split()\n",
        "\n",
        "print(\"%s의 키는 %scm이며, 몸무게는 %.6fkg입니다.\" % (name, height,float(weight)))\n",
        "print(\"%s의 키는 %scm이며, 몸무게는 %.6fkg입니다.\" % (name, height,float(weight)))"
      ],
      "metadata": {
        "colab": {
          "base_uri": "https://localhost:8080/"
        },
        "id": "jyils-xZtUd3",
        "outputId": "7a431e02-b53b-45a9-da5e-26b14124e0cc"
      },
      "execution_count": null,
      "outputs": [
        {
          "output_type": "stream",
          "name": "stdout",
          "text": [
            "창호 170 68.5\n",
            "창호의 키는 170cm이며, 몸무게는 68.500000kg입니다.\n",
            "창호의 키는 170cm이며, 몸무게는 68.500000kg입니다.\n"
          ]
        }
      ]
    },
    {
      "cell_type": "code",
      "source": [
        "# 993번 자가진단 5\n",
        "\n",
        "name = input()\n",
        "age = int(input())\n",
        "average = float(input())\n",
        "\n",
        "print(\"I am %s(IDNo. %d). I got %.6f in my midterm exam.\" % (name, age, average))"
      ],
      "metadata": {
        "colab": {
          "base_uri": "https://localhost:8080/"
        },
        "id": "MLApWJU3uQZO",
        "outputId": "ee7f4ff4-5e43-4287-9574-b5bcc3f5297b"
      },
      "execution_count": null,
      "outputs": [
        {
          "output_type": "stream",
          "name": "stdout",
          "text": [
            "Jaewook\n",
            "24\n",
            "95.7382\n",
            "I am Jaewook(IdNo. 24). I got 95.738200 in my midterm exam.\n"
          ]
        }
      ]
    },
    {
      "cell_type": "code",
      "source": [
        "# 9527번 연습문제 6\n",
        "\n",
        "name, kor, eng, math = input().split()\n",
        "\n",
        "print(\"           %s  %s  %s  %s  %s    %s\" %('name', 'kor', 'eng', 'mat', 'sum', 'avg'))\n",
        "print(\"     %s  %s  %3s  %3s  %s  %.2f\" %(name,kor,eng,math,int(kor)+int(eng)+int(math),(int(kor)+int(eng)+int(math))/3))\n",
        "print()\n",
        "print(\"           %s  %s  %s  %s  %s    %s\" %('name', 'kor', 'eng', 'mat', 'sum', 'avg'))\n",
        "print(\"     %s  %s  %3s  %3s  %s  %.2f\" %(name,kor,eng,math,int(kor)+int(eng)+int(math),(int(kor)+int(eng)+int(math))/3))"
      ],
      "metadata": {
        "colab": {
          "base_uri": "https://localhost:8080/"
        },
        "id": "8kIxurzcvCPS",
        "outputId": "58106fe8-46f7-4bd6-a461-0e6e1afa013e"
      },
      "execution_count": null,
      "outputs": [
        {
          "output_type": "stream",
          "name": "stdout",
          "text": [
            "Kimgildong 100 0 55\n",
            "           name  kor  eng  mat  sum    avg\n",
            "     Kimgildong  100    0   55  155  51.67\n",
            "\n",
            "           name  kor  eng  mat  sum    avg\n",
            "     Kimgildong  100    0   55  155  51.67\n"
          ]
        }
      ]
    },
    {
      "cell_type": "code",
      "source": [
        "# 879번 자가진단 6\n",
        "\n",
        "print(\"%10s %9s %9s %9s\" % (\"item\",\"count\",\"price\",\"rate\"))\n",
        "print(\"%10s %9s %9s %9s\" % (\"pen\",20,100,50.5))\n",
        "print(\"%10s %9s %9s %9s\" % (\"note\",5,95,35.3))\n",
        "print(\"%10s %9s %9s %9s\" % (\"eraser\",110,97,14.2))"
      ],
      "metadata": {
        "colab": {
          "base_uri": "https://localhost:8080/"
        },
        "id": "tWmaUER8vRee",
        "outputId": "fc9854f2-f354-4543-bd10-0dd6887657e8"
      },
      "execution_count": null,
      "outputs": [
        {
          "output_type": "stream",
          "name": "stdout",
          "text": [
            "4\n"
          ]
        }
      ]
    },
    {
      "cell_type": "code",
      "source": [
        "# 9528번 연습문제 7\n",
        "\n",
        "name, height, weight = input().split()\n",
        "print(\"%s의 키는 %scm이며, 몸무게는 %.1fkg입니다.\" % (name, height,float(weight)))"
      ],
      "metadata": {
        "colab": {
          "base_uri": "https://localhost:8080/"
        },
        "id": "2o0t3UH60Jup",
        "outputId": "2972eecd-f040-47c1-8aa3-e8df1e8800dc"
      },
      "execution_count": null,
      "outputs": [
        {
          "output_type": "stream",
          "name": "stdout",
          "text": [
            "창호 170 68.47\n",
            "창호의 키는 170cm이며, 몸무게는 68.5kg입니다.\n"
          ]
        }
      ]
    },
    {
      "cell_type": "code",
      "source": [
        "# 765번 자가진단 7\n",
        "\n",
        "a=input()\n",
        "b=int(input())\n",
        "c=float(input())\n",
        "print(\"I am %s(IdNo. %d). I got %.2f in my midterm exam.\"%(a,b,c))"
      ],
      "metadata": {
        "id": "CsO6aVqd0XLd"
      },
      "execution_count": null,
      "outputs": []
    },
    {
      "cell_type": "code",
      "source": [
        "# 766번 형성평가 1\n",
        "\n",
        "st1,st2,st3,st4 = input().split()\n",
        "print(st4,st3,st2,st1)"
      ],
      "metadata": {
        "colab": {
          "base_uri": "https://localhost:8080/"
        },
        "id": "aGzXVQ6c0eK1",
        "outputId": "8f4708f2-07ed-4794-fd1f-a45b166068e7"
      },
      "execution_count": null,
      "outputs": [
        {
          "output_type": "stream",
          "name": "stdout",
          "text": [
            "beauty and the beast\n",
            "beast the and beauty\n"
          ]
        }
      ]
    },
    {
      "cell_type": "code",
      "source": [
        "# 767번 형성평가 2\n",
        "\n",
        "base, upper, height = map(int, input().split())\n",
        "\n",
        "area = (base+upper) * height / 2\n",
        "\n",
        "print(round(area,1))"
      ],
      "metadata": {
        "colab": {
          "base_uri": "https://localhost:8080/"
        },
        "id": "GUkRNaKK1HPk",
        "outputId": "4b9a7a94-8d7a-4cd0-cb05-e4a376c5976b"
      },
      "execution_count": null,
      "outputs": [
        {
          "output_type": "stream",
          "name": "stdout",
          "text": [
            "2 3 5\n",
            "12.5\n"
          ]
        }
      ]
    },
    {
      "cell_type": "code",
      "source": [
        "# 768번 형성평가 3\n",
        "\n",
        "singer = input()\n",
        "song = input()\n",
        "print(\"%s: %s\" %(singer, song))\n",
        "singer = input()\n",
        "song = input()\n",
        "print(\"%s: %s\" %(singer, song))"
      ],
      "metadata": {
        "colab": {
          "base_uri": "https://localhost:8080/"
        },
        "id": "dkRE15Pe1Hez",
        "outputId": "b35e493a-65da-402e-b4e9-a37e94373a86"
      },
      "execution_count": null,
      "outputs": [
        {
          "output_type": "stream",
          "name": "stdout",
          "text": [
            "Queen\n",
            "Bohemian Rhapsody\n",
            "Queen: Bohemian Rhapsody\n",
            "Beatles\n",
            "Let it be\n",
            "Beatles: Let it be\n"
          ]
        }
      ]
    },
    {
      "cell_type": "code",
      "source": [
        "# 769번 형성평가 4\n",
        "\n",
        "weight = float(input(\"LB? \"))\n",
        "kg_result = weight * 0.45\n",
        "print(\"%.1fLB is %.1fKG.\" % (weight, kg_result))"
      ],
      "metadata": {
        "colab": {
          "base_uri": "https://localhost:8080/"
        },
        "id": "_fiwy2821HGj",
        "outputId": "72d13c4a-766c-4fc5-8009-99976baa128d"
      },
      "execution_count": null,
      "outputs": [
        {
          "output_type": "stream",
          "name": "stdout",
          "text": [
            "LB? 65.73\n",
            "65.7LB is 29.6KG\n"
          ]
        }
      ]
    },
    {
      "cell_type": "code",
      "source": [
        "# 770번 형성평가 5\n",
        "name, height, weight = input().split()\n",
        "print(\"%s의 키는 %scm이며, 몸무게는 %.1fkg입니다.\" % (name, height,float(weight)))"
      ],
      "metadata": {
        "id": "RSUevwIi25BQ"
      },
      "execution_count": null,
      "outputs": []
    },
    {
      "cell_type": "markdown",
      "source": [
        "# 리스트1"
      ],
      "metadata": {
        "id": "tmwrd4eg3P3e"
      }
    },
    {
      "cell_type": "code",
      "source": [
        "# 9529번 연습문제 1\n",
        "\n",
        "lst = [1,'noodle', -2, 'fried rice', 4.54]\n",
        "print(lst)"
      ],
      "metadata": {
        "colab": {
          "base_uri": "https://localhost:8080/"
        },
        "id": "mVXrfNap3VP0",
        "outputId": "13804ec2-cc83-4064-ee75-92ac734d9ab7"
      },
      "execution_count": null,
      "outputs": [
        {
          "output_type": "stream",
          "name": "stdout",
          "text": [
            "[1, 'noodle', -2, 'fried rice', 4.54]\n"
          ]
        }
      ]
    },
    {
      "cell_type": "code",
      "source": [
        "# 781번 자가진단 1\n",
        "\n",
        "lst = ['Salad', 'Pizza', 'Chicken', 'Soup']\n",
        "\n",
        "print(lst)"
      ],
      "metadata": {
        "colab": {
          "base_uri": "https://localhost:8080/"
        },
        "id": "N9gQH1VB3vAl",
        "outputId": "d9588a46-bcf4-4876-c594-88d6e1ad1e13"
      },
      "execution_count": null,
      "outputs": [
        {
          "output_type": "stream",
          "name": "stdout",
          "text": [
            "['Salad', 'Pizza', 'Chicken', 'Soup']\n"
          ]
        }
      ]
    },
    {
      "cell_type": "code",
      "source": [
        "# 9530번 연습문제 2\n",
        "\n",
        "name_list = ['민호', '동혁', '재욱']\n",
        "\n",
        "print(name_list[0])\n",
        "print(name_list[1])\n",
        "print(name_list[2])"
      ],
      "metadata": {
        "colab": {
          "base_uri": "https://localhost:8080/"
        },
        "id": "yIki1q7M34pb",
        "outputId": "db8a6444-5d3b-4d10-ae0c-1048e35f05c2"
      },
      "execution_count": null,
      "outputs": [
        {
          "output_type": "stream",
          "name": "stdout",
          "text": [
            "민호\n",
            "동혁\n",
            "재욱\n"
          ]
        }
      ]
    },
    {
      "cell_type": "code",
      "source": [
        "# 782번 자가진단 2\n",
        "\n",
        "st = ['Python', 'is', 'exciting']\n",
        "\n",
        "print(\" \".join(st))"
      ],
      "metadata": {
        "colab": {
          "base_uri": "https://localhost:8080/"
        },
        "id": "2jyXpEJf4Icc",
        "outputId": "199dfa23-e259-4476-f0b2-ba3ea2d85e4d"
      },
      "execution_count": null,
      "outputs": [
        {
          "output_type": "stream",
          "name": "stdout",
          "text": [
            "Python is exciting\n"
          ]
        }
      ]
    },
    {
      "cell_type": "code",
      "source": [
        "# 9531번 연습문제 3\n",
        "\n",
        "name_lst = ['철수', '동원', '호영']\n",
        "name_list = ['영희', '이슬', '지혜']\n",
        "\n",
        "print(name_lst + name_list)\n",
        "print((name_lst + name_list) * 2)"
      ],
      "metadata": {
        "colab": {
          "base_uri": "https://localhost:8080/"
        },
        "id": "eqZlNTct4kMP",
        "outputId": "616a0919-65cf-424a-a10e-1a74e2014edf"
      },
      "execution_count": null,
      "outputs": [
        {
          "output_type": "stream",
          "name": "stdout",
          "text": [
            "['철수', '동원', '호영', '영희', '이슬', '지혜']\n",
            "['철수', '동원', '호영', '영희', '이슬', '지혜', '철수', '동원', '호영', '영희', '이슬', '지혜']\n"
          ]
        }
      ]
    },
    {
      "cell_type": "code",
      "source": [
        "# 783번 자가진단 3\n",
        "\n",
        "lst = [1,2,3]\n",
        "lst2 = [2,4,6]\n",
        "lst3 = [3,6,9]\n",
        "\n",
        "print(lst+lst3 *3 + lst2)"
      ],
      "metadata": {
        "colab": {
          "base_uri": "https://localhost:8080/"
        },
        "id": "WCq6P3Zp4kIT",
        "outputId": "2aa8b212-ddd3-49a5-fc17-d29d47fd2e06"
      },
      "execution_count": null,
      "outputs": [
        {
          "output_type": "stream",
          "name": "stdout",
          "text": [
            "[1, 2, 3, 3, 6, 9, 3, 6, 9, 3, 6, 9, 2, 4, 6]\n"
          ]
        }
      ]
    },
    {
      "cell_type": "code",
      "source": [
        "# 9532번 연습문제 4\n",
        "\n",
        "st_list = []\n",
        "\n",
        "st_input = input(\"문자열을 입력하시오: \")\n",
        "st_list.append(st_input)\n",
        "st_input = input(\"문자열을 입력하시오: \")\n",
        "st_list.append(st_input)\n",
        "st_input = input(\"문자열을 입력하시오: \")\n",
        "st_list.append(st_input)\n",
        "\n",
        "print(st_list)"
      ],
      "metadata": {
        "colab": {
          "base_uri": "https://localhost:8080/"
        },
        "id": "TiQlvEys5POg",
        "outputId": "57156fc6-3777-4075-8201-f37b5ab101d0"
      },
      "execution_count": null,
      "outputs": [
        {
          "output_type": "stream",
          "name": "stdout",
          "text": [
            "문자열을 입력하시오: 재밌는\n",
            "문자열을 입력하시오: 자기주도\n",
            "문자열을 입력하시오: 파이썬\n",
            "['재밌는', '자기주도', '파이썬']\n"
          ]
        }
      ]
    },
    {
      "cell_type": "code",
      "source": [
        "# 784번 자가진단 4\n",
        "\n",
        "sample_list = [1,2]\n",
        "num = int(input())\n",
        "sample_list.append(num)\n",
        "\n",
        "print(sample_list[-1])\n",
        "print(sample_list[-2])\n",
        "print(sample_list[-3])"
      ],
      "metadata": {
        "colab": {
          "base_uri": "https://localhost:8080/"
        },
        "id": "TrMSHed15PI_",
        "outputId": "71d66a8d-f8c2-4f4b-c631-da330dc36777"
      },
      "execution_count": null,
      "outputs": [
        {
          "output_type": "stream",
          "name": "stdout",
          "text": [
            "-3\n",
            "-3\n",
            "2\n",
            "1\n"
          ]
        }
      ]
    },
    {
      "cell_type": "code",
      "source": [
        "# 9533번 연습문제 5\n",
        "\n",
        "st = list(input(\"String? \"))\n",
        "\n",
        "print(st)\n",
        "print(st[2])"
      ],
      "metadata": {
        "colab": {
          "base_uri": "https://localhost:8080/"
        },
        "id": "B_UB8-CT6Esh",
        "outputId": "fb56f942-6ddf-44a8-abc4-f8b3cb41d20d"
      },
      "execution_count": null,
      "outputs": [
        {
          "output_type": "stream",
          "name": "stdout",
          "text": [
            "String? Good!\n",
            "['G', 'o', 'o', 'd', '!']\n",
            "o\n"
          ]
        }
      ]
    },
    {
      "cell_type": "code",
      "source": [
        "# 785번 자가진단 5\n",
        "\n",
        "st = list(input())\n",
        "\n",
        "print(st[0])\n",
        "print(st[2])"
      ],
      "metadata": {
        "colab": {
          "base_uri": "https://localhost:8080/"
        },
        "id": "9mbozRFk6ftI",
        "outputId": "c77de158-6d11-41a2-d501-4d34abf4a7d8"
      },
      "execution_count": null,
      "outputs": [
        {
          "output_type": "stream",
          "name": "stdout",
          "text": [
            "Eagle\n",
            "E\n",
            "g\n"
          ]
        }
      ]
    },
    {
      "cell_type": "code",
      "source": [
        "# 9534번 연습문제 6\n",
        "\n",
        "sample = ['Carrot', 'Onion', 'Cabbage', 'Potato', 'Sweet Potato', 'Bean']\n",
        "\n",
        "\n",
        "print(\"첫 번째 원소:\", sample[0])\n",
        "print(\"마지막 원소:\", sample[-1])\n",
        "print(\"리스트 거꾸로 출력하기:\", sample[::-1])\n",
        "print(\"li[2:5]:\", sample[2:5])\n",
        "print(\"li[5:2:-1]:\", sample[5:2:-1])\n",
        "print(\"li[1:6:2]:\", sample[1:6:2])"
      ],
      "metadata": {
        "colab": {
          "base_uri": "https://localhost:8080/"
        },
        "id": "bBKsGlRd6sk0",
        "outputId": "9605a63d-37be-422d-c790-63e3166717c9"
      },
      "execution_count": null,
      "outputs": [
        {
          "output_type": "stream",
          "name": "stdout",
          "text": [
            "첫 번째 원소: Carrot\n",
            "마지막 원소: Bean\n",
            "리스트 거꾸로 출력하기: ['Bean', 'Sweet Potato', 'Potato', 'Cabbage', 'Onion', 'Carrot']\n",
            "li[2:5]: ['Cabbage', 'Potato', 'Sweet Potato']\n",
            "li[5:2:-1]: ['Bean', 'Sweet Potato', 'Potato']\n",
            "li[1:6:2]: ['Onion', 'Potato', 'Bean']\n"
          ]
        }
      ]
    },
    {
      "cell_type": "code",
      "source": [
        "# 786번 자가진단 6-1\n",
        "\n",
        "data = []\n",
        "\n",
        "data.append(input(\"Element? \"))\n",
        "data.append(input(\"Element? \"))\n",
        "data.append(input(\"Element? \"))\n",
        "data.append(input(\"Element? \"))\n",
        "data.append(input(\"Element? \"))\n",
        "data.append(input(\"Element? \"))\n",
        "\n",
        "search = int(input(\"Index? \"))\n",
        "\n",
        "print(data[search:])"
      ],
      "metadata": {
        "colab": {
          "base_uri": "https://localhost:8080/"
        },
        "id": "-z4KCbyq7THr",
        "outputId": "e6061a44-52c8-40c4-9994-ee3c847eb622"
      },
      "execution_count": null,
      "outputs": [
        {
          "output_type": "stream",
          "name": "stdout",
          "text": [
            "Element? Seoul\n",
            "Element? New York\n",
            "Element? Tokyo\n",
            "Element? Beijing\n",
            "Element? London\n",
            "Element? Paris\n",
            "Index? 3\n",
            "['Beijing', 'London', 'Paris']\n"
          ]
        }
      ]
    },
    {
      "cell_type": "code",
      "source": [
        "# 787번 자가진단 6-2\n",
        "\n",
        "data = []\n",
        "\n",
        "data.append(input(\"Element? \"))\n",
        "data.append(input(\"Element? \"))\n",
        "data.insert(1,input(\"Element? \"))\n",
        "data.append(input(\"Element? \"))\n",
        "data.insert(2,input(\"Element? \"))\n",
        "data.append(input(\"Element? \"))\n",
        "\n",
        "print(data)"
      ],
      "metadata": {
        "colab": {
          "base_uri": "https://localhost:8080/"
        },
        "id": "n1PgDYT673i9",
        "outputId": "33deaa7d-410d-4a76-e2c7-bcb0d995aa2f"
      },
      "execution_count": null,
      "outputs": [
        {
          "output_type": "stream",
          "name": "stdout",
          "text": [
            "Element? S\n",
            "Element? N\n",
            "Element? T\n",
            "Element? B\n",
            "Element? L\n",
            "Element? P\n",
            "['S', 'T', 'L', 'N', 'B', 'P']\n"
          ]
        }
      ]
    },
    {
      "cell_type": "code",
      "source": [
        "# 788번 자가진단 6-3\n",
        "\n",
        "lst = [1,2,3,4,5,6,7,8,9,10,11,12,13,14,15]\n",
        "increase = int(input())\n",
        "print(lst[increase-1::increase])"
      ],
      "metadata": {
        "colab": {
          "base_uri": "https://localhost:8080/"
        },
        "id": "8lGz5c9-9txP",
        "outputId": "50202c17-e48b-477f-9b39-25aded258c24"
      },
      "execution_count": null,
      "outputs": [
        {
          "output_type": "stream",
          "name": "stdout",
          "text": [
            "3\n",
            "[3, 6, 9, 12, 15]\n"
          ]
        }
      ]
    },
    {
      "cell_type": "code",
      "source": [
        "# 9535번 연습문제 7\n",
        "\n",
        "lst = list(map(str, input().split()))\n",
        "print(lst)"
      ],
      "metadata": {
        "colab": {
          "base_uri": "https://localhost:8080/"
        },
        "id": "dQGEWXsK-Chp",
        "outputId": "f895d6c9-fff7-408b-c8ab-317905dd0691"
      },
      "execution_count": null,
      "outputs": [
        {
          "output_type": "stream",
          "name": "stdout",
          "text": [
            "Apple Bear Candy Dolphin Egg\n",
            "['Apple', 'Bear', 'Candy', 'Dolphin', 'Egg']\n"
          ]
        }
      ]
    },
    {
      "cell_type": "code",
      "source": [
        "# 789번 자가진단 7\n",
        "\n",
        "data = list(map(str, input().split()))\n",
        "print(data[::-1])"
      ],
      "metadata": {
        "colab": {
          "base_uri": "https://localhost:8080/"
        },
        "id": "iCtN83Kk-Jky",
        "outputId": "e8b9a5e1-cda5-4f63-9ced-db975e91fe09"
      },
      "execution_count": null,
      "outputs": [
        {
          "output_type": "stream",
          "name": "stdout",
          "text": [
            "I My Me Mine\n",
            "['Mine', 'Me', 'My', 'I']\n"
          ]
        }
      ]
    },
    {
      "cell_type": "code",
      "source": [
        "# 790번 형성평가 1\n",
        "\n",
        "data = [-1, -2, -3, -4, -5]\n",
        "\n",
        "print(data)"
      ],
      "metadata": {
        "colab": {
          "base_uri": "https://localhost:8080/"
        },
        "id": "8_tivcOX-Xkv",
        "outputId": "0b7a8fb0-1a5d-42ec-89bb-46f2a6148017"
      },
      "execution_count": null,
      "outputs": [
        {
          "output_type": "stream",
          "name": "stdout",
          "text": [
            "[-1, -2, -3, -4, -5]\n"
          ]
        }
      ]
    },
    {
      "cell_type": "code",
      "source": [
        "# 791번 형성평가 2\n",
        "\n",
        "lst = []\n",
        "a, b = map(int, input().split())\n",
        "c, d = map(int, input().split())\n",
        "\n",
        "for i in range(b):\n",
        "  lst.append(a)\n",
        "for i in range(d):\n",
        "  lst.append(c)\n",
        "\n",
        "print(lst)"
      ],
      "metadata": {
        "colab": {
          "base_uri": "https://localhost:8080/"
        },
        "id": "u582M4Ij-gjX",
        "outputId": "07e43fc8-1be5-479e-d3c5-20374179a89a"
      },
      "execution_count": null,
      "outputs": [
        {
          "output_type": "stream",
          "name": "stdout",
          "text": [
            "1 2\n",
            "3 4\n",
            "[1, 1, 3, 3, 3, 3]\n"
          ]
        }
      ]
    },
    {
      "cell_type": "code",
      "source": [
        "# 792번 형성평가 3\n",
        "\n",
        "color_lst, animal_lst = [], []\n",
        "color, animal = map(str, input(\"Input? \").split())\n",
        "color_lst.append(color), animal_lst.append(animal)\n",
        "color, animal = map(str, input(\"Input? \").split())\n",
        "color_lst.append(color), animal_lst.append(animal)\n",
        "color, animal = map(str, input(\"Input? \").split())\n",
        "color_lst.append(color), animal_lst.append(animal)\n",
        "color, animal = map(str, input(\"Input? \").split())\n",
        "color_lst.append(color), animal_lst.append(animal)\n",
        "print(\"Color:\", color_lst)\n",
        "print(\"Animal:\", animal_lst)"
      ],
      "metadata": {
        "colab": {
          "base_uri": "https://localhost:8080/"
        },
        "id": "l0GXAbC9-z03",
        "outputId": "7ab558cc-89e5-4b4a-dae0-940ccd0e65b3"
      },
      "execution_count": null,
      "outputs": [
        {
          "output_type": "stream",
          "name": "stdout",
          "text": [
            "Input? Gray Elephant\n",
            "Input? Pink Flamingo\n",
            "Input? White Turtle\n",
            "Input? Black Leopard\n",
            "Color: ['Gray', 'Pink', 'White', 'Black']\n",
            "Animal: ['Elephant', 'Flamingo', 'Turtle', 'Leopard']\n"
          ]
        }
      ]
    },
    {
      "cell_type": "code",
      "source": [
        "# 793번 형성평가 4\n",
        "\n",
        "st = list(input())\n",
        "print(st[::-1])"
      ],
      "metadata": {
        "colab": {
          "base_uri": "https://localhost:8080/"
        },
        "id": "7fSjVQi5_Tkq",
        "outputId": "ffda5dd0-96dd-4e1f-b1c2-6560cb847453"
      },
      "execution_count": null,
      "outputs": [
        {
          "output_type": "stream",
          "name": "stdout",
          "text": [
            "Korea\n",
            "['a', 'e', 'r', 'o', 'K']\n"
          ]
        }
      ]
    },
    {
      "cell_type": "code",
      "source": [
        "# 794번 형성평가 5\n",
        "\n",
        "data = list(map(str, input().split()))\n",
        "print(data[2::3])"
      ],
      "metadata": {
        "colab": {
          "base_uri": "https://localhost:8080/"
        },
        "id": "7GzRJKdQ_b-D",
        "outputId": "80a98994-dc04-491c-9901-4949ff5db9e6"
      },
      "execution_count": null,
      "outputs": [
        {
          "output_type": "stream",
          "name": "stdout",
          "text": [
            "5 7 9 11 13 15 17 19 21\n",
            "['9', '15', '21']\n"
          ]
        }
      ]
    },
    {
      "cell_type": "code",
      "source": [
        "# 795번 형성평가 6\n",
        "\n",
        "data = list(map(str, input().split()))\n",
        "\n",
        "print(data[len(data)-2:0:-1])"
      ],
      "metadata": {
        "colab": {
          "base_uri": "https://localhost:8080/"
        },
        "id": "kqy6CXQG_9er",
        "outputId": "98ea1629-06ea-431a-c4e8-dbe0cf29b6b4"
      },
      "execution_count": null,
      "outputs": [
        {
          "output_type": "stream",
          "name": "stdout",
          "text": [
            "Tea Coke Coffee Juice Water\n",
            "['Juice', 'Coffee', 'Coke']\n"
          ]
        }
      ]
    },
    {
      "cell_type": "code",
      "source": [
        "data = {}\n",
        "\n",
        "data['Kim'] = '1111-2222'\n",
        "data['Lee'] = '1112-2222'\n",
        "data['Park'] = '1113-2222'\n",
        "\n",
        "name = list(data.keys())\n",
        "\n",
        "search_name = input(\"찾는 친구의 이름: \")\n",
        "\n",
        "if search_name not in data:\n",
        "  print(\"Not Found\")\n",
        "else:\n",
        "  print(data.get(search_name))"
      ],
      "metadata": {
        "colab": {
          "base_uri": "https://localhost:8080/"
        },
        "id": "RcHzQWs_hDp0",
        "outputId": "fbe52658-6cc8-4c2a-b494-3a6da5bd8da4"
      },
      "execution_count": null,
      "outputs": [
        {
          "output_type": "stream",
          "name": "stdout",
          "text": [
            "찾는 친구의 이름: Kim\n",
            "1111-2222\n"
          ]
        }
      ]
    }
  ]
}